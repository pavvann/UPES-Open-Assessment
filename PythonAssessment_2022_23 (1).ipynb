{
  "cells": [
    {
      "cell_type": "markdown",
      "metadata": {
        "id": "hqlAwxycceLg"
      },
      "source": [
        "# Welcome to the **Python Assessment** of **Vertical Collaboration, Open Community**\n",
        "\n",
        "## About the dataset\n",
        "This dataset contains house sale prices for King County, which includes Seattle. It includes homes sold between May 2014 and May 2015.\n",
        "\n",
        "##### To pass the assessment, you must answer all 11 questions correctly ***Bonus section is optional*.\n",
        "\n",
        "#### Wish you all the best!!\n",
        "\n",
        "\n"
      ]
    },
    {
      "cell_type": "code",
      "execution_count": 2,
      "metadata": {
        "id": "wU_bXJPAcsQc"
      },
      "outputs": [],
      "source": [
        "import numpy as np\n",
        "import pandas as pd\n",
        "import matplotlib.pyplot as plt"
      ]
    },
    {
      "cell_type": "markdown",
      "metadata": {
        "id": "4XxnlWfzd7xk"
      },
      "source": [
        "Q1) Your understanding about (max 50 words)\n",
        "\n",
        "\n",
        "1.   NumPY\n",
        "2.   Pandas\n",
        "3.   MatPlotLib\n",
        "\n"
      ]
    },
    {
      "cell_type": "markdown",
      "metadata": {},
      "source": [
        "1.   NumPY: This library is basically used for managing single or multi dimensional arrays.\n",
        "2.   Pandas: It is a library used for data analysis and manipulation. It mainly contains operations for the same on datasets\n",
        "3.   MatPlotLib: It is a library used for plotting different graphs."
      ]
    },
    {
      "cell_type": "markdown",
      "metadata": {
        "id": "XmRRFzQccy3j"
      },
      "source": [
        "Q2) Upload the given dataset into the folder named sample_data"
      ]
    },
    {
      "cell_type": "code",
      "execution_count": 3,
      "metadata": {
        "id": "npg0aacAcuDR"
      },
      "outputs": [],
      "source": [
        "sales = pd.read_csv('sample_data/kc_house_data.csv')"
      ]
    },
    {
      "cell_type": "markdown",
      "metadata": {
        "id": "zvQY-iP4c4HD"
      },
      "source": [
        "Q2) Find out the total number of rows and columns present in our dataset"
      ]
    },
    {
      "cell_type": "code",
      "execution_count": 15,
      "metadata": {
        "id": "E22av13Mc3eE"
      },
      "outputs": [
        {
          "name": "stdout",
          "output_type": "stream",
          "text": [
            "(21613, 21)\n"
          ]
        }
      ],
      "source": [
        "# your code here\n",
        "print(sales.shape)"
      ]
    },
    {
      "cell_type": "markdown",
      "metadata": {
        "id": "R6EDQ3U7dMii"
      },
      "source": [
        "Q3) Find out the mean of Price"
      ]
    },
    {
      "cell_type": "code",
      "execution_count": 13,
      "metadata": {
        "id": "2yVwB0Ztc9zz"
      },
      "outputs": [
        {
          "name": "stdout",
          "output_type": "stream",
          "text": [
            "540088.1417665294\n"
          ]
        }
      ],
      "source": [
        "# your code here\n",
        "print(sales['price'].mean())"
      ]
    },
    {
      "cell_type": "markdown",
      "metadata": {
        "id": "2QO6-TXvddnN"
      },
      "source": [
        "Q4) Find out which zipcode has maximum no of sales"
      ]
    },
    {
      "cell_type": "code",
      "execution_count": 119,
      "metadata": {
        "id": "vlSAsQfQfgg2"
      },
      "outputs": [
        {
          "data": {
            "text/plain": [
              "[98103]"
            ]
          },
          "execution_count": 119,
          "metadata": {},
          "output_type": "execute_result"
        }
      ],
      "source": [
        "# your code here\n",
        "n=1\n",
        "maxx = sales['zipcode'].value_counts()[:n].index.tolist()\n",
        "maxx"
      ]
    },
    {
      "cell_type": "markdown",
      "metadata": {
        "id": "eeLeVaWBdj7e"
      },
      "source": [
        "Q5) Make an array displaying type of house grade present"
      ]
    },
    {
      "cell_type": "code",
      "execution_count": 86,
      "metadata": {
        "id": "TOVrRt4sfhrK"
      },
      "outputs": [
        {
          "data": {
            "text/plain": [
              "array([ 7,  6,  8, 11,  9,  5, 10, 12,  4,  3, 13,  1])"
            ]
          },
          "execution_count": 86,
          "metadata": {},
          "output_type": "execute_result"
        }
      ],
      "source": [
        "# your code here\n",
        "tut = np.array(sales['grade'].unique())\n",
        "tut"
      ]
    },
    {
      "cell_type": "markdown",
      "metadata": {
        "id": "vyYhtqQDdxqj"
      },
      "source": [
        "Q6) Find out the total no sales in conditions 3 and 4"
      ]
    },
    {
      "cell_type": "code",
      "execution_count": 4,
      "metadata": {
        "id": "SkBMOVvafiei"
      },
      "outputs": [
        {
          "name": "stdout",
          "output_type": "stream",
          "text": [
            "Condition 3 =  14031\n",
            "Condition 4 =  5679\n",
            "TOTAL =  19710\n"
          ]
        }
      ],
      "source": [
        "# your code here\n",
        "for3 = sales['condition'].value_counts()[3]\n",
        "for4 = sales['condition'].value_counts()[4]\n",
        "print(\"Condition 3 = \", for3)\n",
        "print(\"Condition 4 = \", for4)\n",
        "print(\"TOTAL = \", for3+for4)"
      ]
    },
    {
      "cell_type": "markdown",
      "metadata": {
        "id": "AHs7ZLKrdTsD"
      },
      "source": [
        "Q7) Find out the top-five ids with the highest prices"
      ]
    },
    {
      "cell_type": "code",
      "execution_count": 97,
      "metadata": {
        "id": "BS653UBKfjfK"
      },
      "outputs": [
        {
          "data": {
            "text/plain": [
              "[98103, 98038, 98115, 98052, 98117]"
            ]
          },
          "execution_count": 97,
          "metadata": {},
          "output_type": "execute_result"
        }
      ],
      "source": [
        "# your code here\n",
        "n=5\n",
        "ids = sales['zipcode'].value_counts()[:n].index.tolist()\n",
        "ids"
      ]
    },
    {
      "cell_type": "markdown",
      "metadata": {
        "id": "XP54QULPdZTh"
      },
      "source": [
        "Q8) Draw a pie chart displaying the types of house conditions present"
      ]
    },
    {
      "cell_type": "code",
      "execution_count": 37,
      "metadata": {
        "id": "5XP9quaFfkaI"
      },
      "outputs": [
        {
          "data": {
            "text/plain": [
              "<AxesSubplot:ylabel='condition'>"
            ]
          },
          "execution_count": 37,
          "metadata": {},
          "output_type": "execute_result"
        },
        {
          "data": {
            "image/png": "[encoded data removed]",
            "text/plain": [
              "<Figure size 432x288 with 1 Axes>"
            ]
          },
          "metadata": {},
          "output_type": "display_data"
        }
      ],
      "source": [
        "# your code here\n",
        "conn = sales['condition'].value_counts()\n",
        "\n",
        "conn.plot(kind = 'pie')"
      ]
    },
    {
      "cell_type": "markdown",
      "metadata": {
        "id": "8gkXMakRdgnZ"
      },
      "source": [
        "Q9) Draw a bar graph displaying the no of sales"
      ]
    },
    {
      "cell_type": "code",
      "execution_count": 36,
      "metadata": {
        "id": "LFwCnSCUflFB"
      },
      "outputs": [
        {
          "data": {
            "text/plain": [
              "<AxesSubplot:>"
            ]
          },
          "execution_count": 36,
          "metadata": {},
          "output_type": "execute_result"
        },
        {
          "data": {
            "image/png": "[encoded data removed]",
            "text/plain": [
              "<Figure size 432x288 with 1 Axes>"
            ]
          },
          "metadata": {
            "needs_background": "light"
          },
          "output_type": "display_data"
        }
      ],
      "source": [
        "# your code here\n",
        "floorrr = sales['floors'].value_counts()\n",
        "\n",
        "floorrr.plot(kind = 'bar')"
      ]
    },
    {
      "cell_type": "markdown",
      "metadata": {
        "id": "_LGgh106dsBQ"
      },
      "source": [
        "Q10) Draw a graph that display the no of sales according to the date"
      ]
    },
    {
      "cell_type": "code",
      "execution_count": 34,
      "metadata": {
        "id": "pcKacoICflze"
      },
      "outputs": [
        {
          "data": {
            "image/png": "[encoded data removed]",
            "text/plain": [
              "<Figure size 432x288 with 1 Axes>"
            ]
          },
          "metadata": {
            "needs_background": "light"
          },
          "output_type": "display_data"
        }
      ],
      "source": [
        "# your code here\n",
        "datt=sales['date'].value_counts()\n",
        "\n",
        "datt.plot(kind = 'bar')\n",
        "\n",
        "plt.show()"
      ]
    },
    {
      "cell_type": "markdown",
      "metadata": {
        "id": "jFgB7RxAd0rn"
      },
      "source": [
        "Q11) Draw a bar graph that displays the no of sales accoring to the house grade"
      ]
    },
    {
      "cell_type": "code",
      "execution_count": 35,
      "metadata": {
        "id": "ZXPUs_hXfmdR"
      },
      "outputs": [
        {
          "data": {
            "text/plain": [
              "<AxesSubplot:>"
            ]
          },
          "execution_count": 35,
          "metadata": {},
          "output_type": "execute_result"
        },
        {
          "data": {
            "image/png": "[encoded data removed]",
            "text/plain": [
              "<Figure size 432x288 with 1 Axes>"
            ]
          },
          "metadata": {
            "needs_background": "light"
          },
          "output_type": "display_data"
        }
      ],
      "source": [
        "# your code here\n",
        "r=sales[\"grade\"].value_counts()\n",
        "\n",
        "r.plot(kind = 'bar')\n"
      ]
    },
    {
      "cell_type": "markdown",
      "metadata": {
        "id": "HXIvKNK7doXJ"
      },
      "source": [
        "### BONUS"
      ]
    },
    {
      "cell_type": "markdown",
      "metadata": {
        "id": "PRP0ZaKFe8xt"
      },
      "source": [
        "Q1) Is there any relationship present between Year Built and Price? If yes, Please explain."
      ]
    },
    {
      "cell_type": "code",
      "execution_count": null,
      "metadata": {
        "id": "FXoVpaJKdPSv"
      },
      "outputs": [],
      "source": [
        "# your code here"
      ]
    },
    {
      "cell_type": "markdown",
      "metadata": {
        "id": "QQvNxYe5d3-3"
      },
      "source": [
        "Q2 ) Add 1.8% TAX on every sale Price within Zipcode 98103"
      ]
    },
    {
      "cell_type": "code",
      "execution_count": null,
      "metadata": {
        "id": "lWDids4yfEAz"
      },
      "outputs": [],
      "source": [
        "# your code here"
      ]
    }
  ],
  "metadata": {
    "colab": {
      "collapsed_sections": [],
      "name": "PythonAssessment_2022-23",
      "provenance": []
    },
    "kernelspec": {
      "display_name": "Python 3",
      "name": "python3"
    },
    "language_info": {
      "codemirror_mode": {
        "name": "ipython",
        "version": 3
      },
      "file_extension": ".py",
      "mimetype": "text/x-python",
      "name": "python",
      "nbconvert_exporter": "python",
      "pygments_lexer": "ipython3",
      "version": "3.10.1"
    }
  },
  "nbformat": 4,
  "nbformat_minor": 0
}
